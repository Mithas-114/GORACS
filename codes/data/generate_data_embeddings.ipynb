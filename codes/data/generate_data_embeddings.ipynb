{
 "cells": [
  {
   "cell_type": "code",
   "execution_count": 1,
   "metadata": {
    "tags": []
   },
   "outputs": [],
   "source": [
    "import json\n",
    "import torch\n",
    "from sentence_transformers import SentenceTransformer"
   ]
  },
  {
   "cell_type": "code",
   "execution_count": 14,
   "metadata": {
    "tags": []
   },
   "outputs": [],
   "source": [
    "def generate_prompt(data, task):\n",
    "    # sorry about the formatting disaster gotta move fast\n",
    "    if task == \"SeqRec\":         # we embed the whole data (input + output) in this case\n",
    "        return f\"\"\"Below is an instruction that describes a task, paired with an input that provides further context. Write a response that appropriately completes the request.  \n",
    "\n",
    "### Instruction:\n",
    "{data[\"instruction\"]}\n",
    "\n",
    "### Input:\n",
    "{data[\"input\"]}\n",
    "\n",
    "### Response:\n",
    "{data[\"output\"]}\n",
    "\"\"\"\n",
    "    elif task == \"CTRPre\":       # we embed the input in this case  \n",
    "        return f\"\"\"Below is an instruction that describes a task, paired with an input that provides further context. Write a response that appropriately completes the request.\n",
    "\n",
    "### Instruction:\n",
    "{data[\"instruction\"]}\n",
    "\n",
    "### Input:\n",
    "{data[\"input\"]}\n",
    "\n",
    "### Response:\n",
    "\"\"\"\n",
    "        \n",
    "def generate_embeddings(data_path, model_path, task):\n",
    "    model = SentenceTransformer(model_path)\n",
    "    with open(data_path, \"r\") as f:\n",
    "        data = json.load(f)\n",
    "    prompts = [generate_prompt(item, task) for item in data]\n",
    "    embeddings = model.encode(prompts, show_progress_bar=True)\n",
    "    return embeddings"
   ]
  },
  {
   "cell_type": "code",
   "execution_count": 9,
   "metadata": {
    "tags": []
   },
   "outputs": [],
   "source": [
    "dataset = \"games\"\n",
    "task = \"SeqRec\"\n",
    "encoder_path = \"../../models/Encoders/Roberta-base\""
   ]
  },
  {
   "cell_type": "code",
   "execution_count": null,
   "metadata": {
    "tags": []
   },
   "outputs": [],
   "source": [
    "for split in [\"train\", \"valid\"]:\n",
    "    embeddings = generate_embeddings(f\"../../datasets/{dataset}/{task}/{split}.json\", encoder_path, task)\n",
    "    torch.save(torch.from_numpy(embeddings), f\"../../datasets/{dataset}/{task}/{split}_embeddings.pth\")"
   ]
  },
  {
   "cell_type": "code",
   "execution_count": null,
   "metadata": {
    "tags": []
   },
   "outputs": [],
   "source": [
    "task = \"CTRPre\"\n",
    "for split in [\"train\", \"valid\"]:\n",
    "    embeddings = generate_embeddings(f\"../../datasets/{dataset}/{task}/{split}.json\", encoder_path, task)\n",
    "    torch.save(torch.from_numpy(embeddings), f\"../../datasets/{dataset}/{task}/{split}_embeddings.pth\")"
   ]
  }
 ],
 "metadata": {
  "kernelspec": {
   "display_name": "pytorchmth",
   "language": "python",
   "name": "python3"
  },
  "language_info": {
   "codemirror_mode": {
    "name": "ipython",
    "version": 3
   },
   "file_extension": ".py",
   "mimetype": "text/x-python",
   "name": "python",
   "nbconvert_exporter": "python",
   "pygments_lexer": "ipython3",
   "version": "3.9.16"
  }
 },
 "nbformat": 4,
 "nbformat_minor": 4
}
