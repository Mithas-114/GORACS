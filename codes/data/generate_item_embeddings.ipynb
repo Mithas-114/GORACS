{
 "cells": [
  {
   "cell_type": "code",
   "execution_count": 1,
   "metadata": {
    "tags": []
   },
   "outputs": [],
   "source": [
    "from transformers import GenerationConfig, LlamaForCausalLM, LlamaTokenizer\n",
    "import transformers\n",
    "import torch\n",
    "import json\n",
    "from peft import PeftModel"
   ]
  },
  {
   "cell_type": "code",
   "execution_count": 2,
   "metadata": {
    "tags": []
   },
   "outputs": [],
   "source": [
    "dataset = \"games\"\n",
    "base_model = \"../../models/LLMs/LLaMa-7B\"\n",
    "device = \"cuda:0\""
   ]
  },
  {
   "cell_type": "code",
   "execution_count": 3,
   "metadata": {
    "tags": []
   },
   "outputs": [
    {
     "data": {
      "application/json": {
       "ascii": false,
       "bar_format": null,
       "colour": null,
       "elapsed": 0.008155584335327148,
       "initial": 0,
       "n": 0,
       "ncols": null,
       "nrows": null,
       "postfix": null,
       "prefix": "Loading checkpoint shards",
       "rate": null,
       "total": 2,
       "unit": "it",
       "unit_divisor": 1000,
       "unit_scale": false
      },
      "application/vnd.jupyter.widget-view+json": {
       "model_id": "a31682ac63ab4457ab14d779da15492f",
       "version_major": 2,
       "version_minor": 0
      },
      "text/plain": [
       "Loading checkpoint shards:   0%|          | 0/2 [00:00<?, ?it/s]"
      ]
     },
     "metadata": {},
     "output_type": "display_data"
    }
   ],
   "source": [
    "tokenizer = LlamaTokenizer.from_pretrained(base_model)\n",
    "model = LlamaForCausalLM.from_pretrained(\n",
    "            base_model,\n",
    "            load_in_8bit=False,\n",
    "            torch_dtype=torch.float16,\n",
    "    ).to(device)"
   ]
  },
  {
   "cell_type": "code",
   "execution_count": 4,
   "metadata": {
    "tags": []
   },
   "outputs": [],
   "source": [
    "model.config.pad_token_id = tokenizer.pad_token_id = 0  # unk\n",
    "model.config.bos_token_id = 1\n",
    "model.config.eos_token_id = 2\n",
    "model.eval()\n",
    "\n",
    "if dataset == \"games\":\n",
    "    f = open(f'../../datasets/{dataset}/SeqRec/id2name.txt', 'r')\n",
    "    lines = f.readlines()\n",
    "    f.close()\n",
    "    text = [_.split('\\t')[0].strip(\" \").strip('\\\"') for _ in lines] # remove the leading and trailing spaces and quotess make sure this preprocess is the same as the prediction\n",
    "    tokenizer.padding_side = \"left\"\n",
    "else:\n",
    "    f = open(f'../../datasets/{dataset}/SeqRec/id2name.json', 'r')\n",
    "    text = list(json.load(f).values())\n",
    "    tokenizer.padding_side = \"left\""
   ]
  },
  {
   "cell_type": "code",
   "execution_count": null,
   "metadata": {
    "tags": []
   },
   "outputs": [
    {
     "name": "stderr",
     "output_type": "stream",
     "text": [
      "204it [00:15, 12.52it/s]"
     ]
    }
   ],
   "source": [
    "from tqdm import tqdm\n",
    "def batch(list, batch_size=1):\n",
    "    chunk_size = (len(list) - 1) // batch_size + 1\n",
    "    for i in range(chunk_size):\n",
    "        yield list[batch_size * i: batch_size * (i + 1)]\n",
    "item_embedding = []\n",
    "with torch.no_grad():\n",
    "    for i, batch_input in tqdm(enumerate(batch(text, 16))):\n",
    "        input = tokenizer(batch_input, return_tensors=\"pt\", padding=True)\n",
    "        input_ids = input.input_ids.cuda()\n",
    "        attention_mask = input.attention_mask.cuda()\n",
    "        outputs = model(input_ids, attention_mask=attention_mask, output_hidden_states=True)\n",
    "        hidden_states = outputs.hidden_states\n",
    "        item_embedding.append(hidden_states[-1][:, -1, :].detach().cpu())\n",
    "    # break\n",
    "    item_embedding = torch.cat(item_embedding, dim=0)\n",
    "    torch.save(item_embedding, f'../../datasets/{dataset}/SeqRec/item_embedding.pt')"
   ]
  },
  {
   "cell_type": "code",
   "execution_count": null,
   "metadata": {
    "tags": []
   },
   "outputs": [],
   "source": [
    "item_embedding.shape"
   ]
  }
 ],
 "metadata": {
  "kernelspec": {
   "display_name": "Python 3 (ipykernel)",
   "language": "python",
   "name": "python3"
  },
  "language_info": {
   "codemirror_mode": {
    "name": "ipython",
    "version": 3
   },
   "file_extension": ".py",
   "mimetype": "text/x-python",
   "name": "python",
   "nbconvert_exporter": "python",
   "pygments_lexer": "ipython3",
   "version": "3.8.10"
  }
 },
 "nbformat": 4,
 "nbformat_minor": 4
}
