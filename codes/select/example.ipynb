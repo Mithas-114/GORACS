{
 "cells": [
  {
   "cell_type": "code",
   "execution_count": 1,
   "id": "14105cfc-ab70-4f36-99b0-1a9620ee531b",
   "metadata": {
    "tags": []
   },
   "outputs": [],
   "source": [
    "import torch\n",
    "import numpy as np\n",
    "from ITRA import ITRA"
   ]
  },
  {
   "cell_type": "markdown",
   "id": "097c2f9e-73d8-4aca-8db7-502d21045b7c",
   "metadata": {},
   "source": [
    "### coreset select"
   ]
  },
  {
   "cell_type": "code",
   "execution_count": 2,
   "id": "38ec029d-9b58-49eb-b8bc-b3e42e9fab6f",
   "metadata": {
    "tags": []
   },
   "outputs": [],
   "source": [
    "lamda = 0.5\n",
    "n = 1000\n",
    "max_iters = 100\n",
    "cut_num = 30"
   ]
  },
  {
   "cell_type": "code",
   "execution_count": 3,
   "id": "f5ad564b-478c-4558-96b9-407dada67127",
   "metadata": {
    "tags": []
   },
   "outputs": [],
   "source": [
    "embeddings_train = torch.load(\"example_data/train_embeddings_example.pth\").to(torch.float32)\n",
    "embeddings_valid = torch.load(\"example_data/valid_embeddings_example.pth\").to(torch.float32)\n",
    "dist_matrix = torch.cdist(embeddings_train, embeddings_valid, p=2).cpu()\n",
    "dist_matrix /= dist_matrix.max()\n",
    "grads = torch.load(\"example_data/grads_example.pth\").to(torch.float32)\n",
    "grads /= grads.max()"
   ]
  },
  {
   "cell_type": "code",
   "execution_count": 4,
   "id": "c8c6de91-4bad-4f8a-b407-3b4c775be258",
   "metadata": {
    "tags": []
   },
   "outputs": [],
   "source": [
    "solver = ITRA()"
   ]
  },
  {
   "cell_type": "code",
   "execution_count": 5,
   "id": "3075c9dd-5d1f-4198-aeb5-3b29e72140d6",
   "metadata": {
    "tags": []
   },
   "outputs": [
    {
     "name": "stderr",
     "output_type": "stream",
     "text": [
      "100%|██████████| 1000/1000 [00:02<00:00, 358.84it/s]\n"
     ]
    },
    {
     "name": "stdout",
     "output_type": "stream",
     "text": [
      "------ score of S_gre : 0.22534453562875165 ------\n"
     ]
    },
    {
     "name": "stderr",
     "output_type": "stream",
     "text": [
      "  0%|          | 0/100 [00:00<?, ?it/s]"
     ]
    },
    {
     "name": "stdout",
     "output_type": "stream",
     "text": [
      "------ score of iter 0 : 0.22534453562875165 ------\n"
     ]
    },
    {
     "name": "stderr",
     "output_type": "stream",
     "text": [
      "  1%|          | 1/100 [00:02<04:30,  2.73s/it]"
     ]
    },
    {
     "name": "stdout",
     "output_type": "stream",
     "text": [
      "------ score of iter 1 : 0.22487625114177245 ------\n"
     ]
    },
    {
     "name": "stderr",
     "output_type": "stream",
     "text": [
      "  2%|▏         | 2/100 [00:04<03:05,  1.89s/it]"
     ]
    },
    {
     "name": "stdout",
     "output_type": "stream",
     "text": [
      "------ score of iter 2 : 0.22444862691541098 ------\n"
     ]
    },
    {
     "name": "stderr",
     "output_type": "stream",
     "text": [
      "  3%|▎         | 3/100 [00:05<02:37,  1.63s/it]"
     ]
    },
    {
     "name": "stdout",
     "output_type": "stream",
     "text": [
      "------ score of iter 3 : 0.2241401111901261 ------\n"
     ]
    },
    {
     "name": "stderr",
     "output_type": "stream",
     "text": [
      "  4%|▍         | 4/100 [00:06<02:23,  1.49s/it]"
     ]
    },
    {
     "name": "stdout",
     "output_type": "stream",
     "text": [
      "------ score of iter 4 : 0.22379299901244132 ------\n"
     ]
    },
    {
     "name": "stderr",
     "output_type": "stream",
     "text": [
      "  5%|▌         | 5/100 [00:07<02:15,  1.43s/it]"
     ]
    },
    {
     "name": "stdout",
     "output_type": "stream",
     "text": [
      "------ score of iter 5 : 0.22335406359140655 ------\n"
     ]
    },
    {
     "name": "stderr",
     "output_type": "stream",
     "text": [
      "  6%|▌         | 6/100 [00:09<02:08,  1.37s/it]"
     ]
    },
    {
     "name": "stdout",
     "output_type": "stream",
     "text": [
      "------ score of iter 6 : 0.22303662686203518 ------\n"
     ]
    },
    {
     "name": "stderr",
     "output_type": "stream",
     "text": [
      "  7%|▋         | 7/100 [00:10<02:06,  1.36s/it]"
     ]
    },
    {
     "name": "stdout",
     "output_type": "stream",
     "text": [
      "------ score of iter 7 : 0.22264314726632947 ------\n"
     ]
    },
    {
     "name": "stderr",
     "output_type": "stream",
     "text": [
      "  8%|▊         | 8/100 [00:11<02:03,  1.34s/it]"
     ]
    },
    {
     "name": "stdout",
     "output_type": "stream",
     "text": [
      "------ score of iter 8 : 0.22218636301350675 ------\n"
     ]
    },
    {
     "name": "stderr",
     "output_type": "stream",
     "text": [
      "  9%|▉         | 9/100 [00:13<01:59,  1.31s/it]"
     ]
    },
    {
     "name": "stdout",
     "output_type": "stream",
     "text": [
      "------ score of iter 9 : 0.22179239759486985 ------\n"
     ]
    },
    {
     "name": "stderr",
     "output_type": "stream",
     "text": [
      " 10%|█         | 10/100 [00:14<01:57,  1.31s/it]"
     ]
    },
    {
     "name": "stdout",
     "output_type": "stream",
     "text": [
      "------ score of iter 10 : 0.22131896475520824 ------\n"
     ]
    },
    {
     "name": "stderr",
     "output_type": "stream",
     "text": [
      " 11%|█         | 11/100 [00:15<01:55,  1.30s/it]"
     ]
    },
    {
     "name": "stdout",
     "output_type": "stream",
     "text": [
      "------ score of iter 11 : 0.22089486074042414 ------\n"
     ]
    },
    {
     "name": "stderr",
     "output_type": "stream",
     "text": [
      " 12%|█▏        | 12/100 [00:16<01:53,  1.29s/it]"
     ]
    },
    {
     "name": "stdout",
     "output_type": "stream",
     "text": [
      "------ score of iter 12 : 0.22056877078381268 ------\n"
     ]
    },
    {
     "name": "stderr",
     "output_type": "stream",
     "text": [
      " 13%|█▎        | 13/100 [00:18<01:51,  1.28s/it]"
     ]
    },
    {
     "name": "stdout",
     "output_type": "stream",
     "text": [
      "------ score of iter 13 : 0.22012141279731748 ------\n"
     ]
    },
    {
     "name": "stderr",
     "output_type": "stream",
     "text": [
      " 14%|█▍        | 14/100 [00:19<01:48,  1.26s/it]"
     ]
    },
    {
     "name": "stdout",
     "output_type": "stream",
     "text": [
      "------ score of iter 14 : 0.2197815534003533 ------\n"
     ]
    },
    {
     "name": "stderr",
     "output_type": "stream",
     "text": [
      " 15%|█▌        | 15/100 [00:20<01:47,  1.27s/it]"
     ]
    },
    {
     "name": "stdout",
     "output_type": "stream",
     "text": [
      "------ score of iter 15 : 0.21941215845127476 ------\n"
     ]
    },
    {
     "name": "stderr",
     "output_type": "stream",
     "text": [
      " 16%|█▌        | 16/100 [00:21<01:46,  1.27s/it]"
     ]
    },
    {
     "name": "stdout",
     "output_type": "stream",
     "text": [
      "------ score of iter 16 : 0.2190262867957808 ------\n"
     ]
    },
    {
     "name": "stderr",
     "output_type": "stream",
     "text": [
      " 17%|█▋        | 17/100 [00:23<01:46,  1.28s/it]"
     ]
    },
    {
     "name": "stdout",
     "output_type": "stream",
     "text": [
      "------ score of iter 17 : 0.21870227164705197 ------\n"
     ]
    },
    {
     "name": "stderr",
     "output_type": "stream",
     "text": [
      " 18%|█▊        | 18/100 [00:24<01:45,  1.28s/it]"
     ]
    },
    {
     "name": "stdout",
     "output_type": "stream",
     "text": [
      "------ score of iter 18 : 0.21834326208089366 ------\n"
     ]
    },
    {
     "name": "stderr",
     "output_type": "stream",
     "text": [
      " 19%|█▉        | 19/100 [00:25<01:45,  1.30s/it]"
     ]
    },
    {
     "name": "stdout",
     "output_type": "stream",
     "text": [
      "------ score of iter 19 : 0.2179902099088291 ------\n"
     ]
    },
    {
     "name": "stderr",
     "output_type": "stream",
     "text": [
      " 20%|██        | 20/100 [00:27<01:42,  1.29s/it]"
     ]
    },
    {
     "name": "stdout",
     "output_type": "stream",
     "text": [
      "------ score of iter 20 : 0.21770111158420233 ------\n"
     ]
    },
    {
     "name": "stderr",
     "output_type": "stream",
     "text": [
      " 21%|██        | 21/100 [00:28<01:41,  1.28s/it]"
     ]
    },
    {
     "name": "stdout",
     "output_type": "stream",
     "text": [
      "------ score of iter 21 : 0.21743476710845608 ------\n"
     ]
    },
    {
     "name": "stderr",
     "output_type": "stream",
     "text": [
      " 22%|██▏       | 22/100 [00:29<01:39,  1.27s/it]"
     ]
    },
    {
     "name": "stdout",
     "output_type": "stream",
     "text": [
      "------ score of iter 22 : 0.21711099552367694 ------\n"
     ]
    },
    {
     "name": "stderr",
     "output_type": "stream",
     "text": [
      " 23%|██▎       | 23/100 [00:30<01:36,  1.25s/it]"
     ]
    },
    {
     "name": "stdout",
     "output_type": "stream",
     "text": [
      "------ score of iter 23 : 0.21672231195033412 ------\n"
     ]
    },
    {
     "name": "stderr",
     "output_type": "stream",
     "text": [
      " 24%|██▍       | 24/100 [00:32<01:35,  1.26s/it]"
     ]
    },
    {
     "name": "stdout",
     "output_type": "stream",
     "text": [
      "------ score of iter 24 : 0.21632458169818738 ------\n"
     ]
    },
    {
     "name": "stderr",
     "output_type": "stream",
     "text": [
      " 25%|██▌       | 25/100 [00:33<01:35,  1.27s/it]"
     ]
    },
    {
     "name": "stdout",
     "output_type": "stream",
     "text": [
      "------ score of iter 25 : 0.2160224807173466 ------\n"
     ]
    },
    {
     "name": "stderr",
     "output_type": "stream",
     "text": [
      " 26%|██▌       | 26/100 [00:34<01:34,  1.27s/it]"
     ]
    },
    {
     "name": "stdout",
     "output_type": "stream",
     "text": [
      "------ score of iter 26 : 0.21568937772014068 ------\n"
     ]
    },
    {
     "name": "stderr",
     "output_type": "stream",
     "text": [
      " 27%|██▋       | 27/100 [00:36<01:32,  1.27s/it]"
     ]
    },
    {
     "name": "stdout",
     "output_type": "stream",
     "text": [
      "------ score of iter 27 : 0.21536562241115523 ------\n"
     ]
    },
    {
     "name": "stderr",
     "output_type": "stream",
     "text": [
      " 28%|██▊       | 28/100 [00:37<01:30,  1.26s/it]"
     ]
    },
    {
     "name": "stdout",
     "output_type": "stream",
     "text": [
      "------ score of iter 28 : 0.21501737619289088 ------\n"
     ]
    },
    {
     "name": "stderr",
     "output_type": "stream",
     "text": [
      " 29%|██▉       | 29/100 [00:38<01:28,  1.24s/it]"
     ]
    },
    {
     "name": "stdout",
     "output_type": "stream",
     "text": [
      "------ score of iter 29 : 0.2147346943749572 ------\n"
     ]
    },
    {
     "name": "stderr",
     "output_type": "stream",
     "text": [
      " 30%|███       | 30/100 [00:39<01:26,  1.23s/it]"
     ]
    },
    {
     "name": "stdout",
     "output_type": "stream",
     "text": [
      "------ score of iter 30 : 0.2144545386130444 ------\n"
     ]
    },
    {
     "name": "stderr",
     "output_type": "stream",
     "text": [
      " 31%|███       | 31/100 [00:40<01:24,  1.22s/it]"
     ]
    },
    {
     "name": "stdout",
     "output_type": "stream",
     "text": [
      "------ score of iter 31 : 0.21425434822388792 ------\n"
     ]
    },
    {
     "name": "stderr",
     "output_type": "stream",
     "text": [
      " 32%|███▏      | 32/100 [00:42<01:23,  1.22s/it]"
     ]
    },
    {
     "name": "stdout",
     "output_type": "stream",
     "text": [
      "------ score of iter 32 : 0.21403217187770512 ------\n"
     ]
    },
    {
     "name": "stderr",
     "output_type": "stream",
     "text": [
      " 33%|███▎      | 33/100 [00:43<01:21,  1.21s/it]"
     ]
    },
    {
     "name": "stdout",
     "output_type": "stream",
     "text": [
      "------ score of iter 33 : 0.21374342399933263 ------\n"
     ]
    },
    {
     "name": "stderr",
     "output_type": "stream",
     "text": [
      " 34%|███▍      | 34/100 [00:44<01:20,  1.22s/it]"
     ]
    },
    {
     "name": "stdout",
     "output_type": "stream",
     "text": [
      "------ score of iter 34 : 0.21354462843225222 ------\n"
     ]
    },
    {
     "name": "stderr",
     "output_type": "stream",
     "text": [
      " 35%|███▌      | 35/100 [00:45<01:18,  1.21s/it]"
     ]
    },
    {
     "name": "stdout",
     "output_type": "stream",
     "text": [
      "------ score of iter 35 : 0.21323565944102482 ------\n"
     ]
    },
    {
     "name": "stderr",
     "output_type": "stream",
     "text": [
      " 36%|███▌      | 36/100 [00:46<01:16,  1.20s/it]"
     ]
    },
    {
     "name": "stdout",
     "output_type": "stream",
     "text": [
      "------ score of iter 36 : 0.2129359036993691 ------\n"
     ]
    },
    {
     "name": "stderr",
     "output_type": "stream",
     "text": [
      " 37%|███▋      | 37/100 [00:48<01:15,  1.21s/it]"
     ]
    },
    {
     "name": "stdout",
     "output_type": "stream",
     "text": [
      "------ score of iter 37 : 0.21261903872997384 ------\n"
     ]
    },
    {
     "name": "stderr",
     "output_type": "stream",
     "text": [
      " 38%|███▊      | 38/100 [00:49<01:14,  1.20s/it]"
     ]
    },
    {
     "name": "stdout",
     "output_type": "stream",
     "text": [
      "------ score of iter 38 : 0.21234319100030566 ------\n"
     ]
    },
    {
     "name": "stderr",
     "output_type": "stream",
     "text": [
      " 39%|███▉      | 39/100 [00:50<01:12,  1.19s/it]"
     ]
    },
    {
     "name": "stdout",
     "output_type": "stream",
     "text": [
      "------ score of iter 39 : 0.21216760677494903 ------\n"
     ]
    },
    {
     "name": "stderr",
     "output_type": "stream",
     "text": [
      " 40%|████      | 40/100 [00:51<01:11,  1.19s/it]"
     ]
    },
    {
     "name": "stdout",
     "output_type": "stream",
     "text": [
      "------ score of iter 40 : 0.21191174593665524 ------\n"
     ]
    },
    {
     "name": "stderr",
     "output_type": "stream",
     "text": [
      " 41%|████      | 41/100 [00:52<01:09,  1.18s/it]"
     ]
    },
    {
     "name": "stdout",
     "output_type": "stream",
     "text": [
      "------ score of iter 41 : 0.21169733753916717 ------\n"
     ]
    },
    {
     "name": "stderr",
     "output_type": "stream",
     "text": [
      " 42%|████▏     | 42/100 [00:53<01:08,  1.19s/it]"
     ]
    },
    {
     "name": "stdout",
     "output_type": "stream",
     "text": [
      "------ score of iter 42 : 0.211361286663496 ------\n"
     ]
    },
    {
     "name": "stderr",
     "output_type": "stream",
     "text": [
      " 43%|████▎     | 43/100 [00:55<01:07,  1.18s/it]"
     ]
    },
    {
     "name": "stdout",
     "output_type": "stream",
     "text": [
      "------ score of iter 43 : 0.2111871556563758 ------\n"
     ]
    },
    {
     "name": "stderr",
     "output_type": "stream",
     "text": [
      " 44%|████▍     | 44/100 [00:56<01:05,  1.18s/it]"
     ]
    },
    {
     "name": "stdout",
     "output_type": "stream",
     "text": [
      "------ score of iter 44 : 0.21081550802276353 ------\n"
     ]
    },
    {
     "name": "stderr",
     "output_type": "stream",
     "text": [
      " 45%|████▌     | 45/100 [00:57<01:04,  1.18s/it]"
     ]
    },
    {
     "name": "stdout",
     "output_type": "stream",
     "text": [
      "------ score of iter 45 : 0.21057691232399 ------\n"
     ]
    },
    {
     "name": "stderr",
     "output_type": "stream",
     "text": [
      " 46%|████▌     | 46/100 [00:58<01:03,  1.18s/it]"
     ]
    },
    {
     "name": "stdout",
     "output_type": "stream",
     "text": [
      "------ score of iter 46 : 0.21020393258542647 ------\n"
     ]
    },
    {
     "name": "stderr",
     "output_type": "stream",
     "text": [
      " 47%|████▋     | 47/100 [00:59<01:03,  1.19s/it]"
     ]
    },
    {
     "name": "stdout",
     "output_type": "stream",
     "text": [
      "------ score of iter 47 : 0.2100849242726796 ------\n"
     ]
    },
    {
     "name": "stderr",
     "output_type": "stream",
     "text": [
      " 48%|████▊     | 48/100 [01:01<01:01,  1.19s/it]"
     ]
    },
    {
     "name": "stdout",
     "output_type": "stream",
     "text": [
      "------ score of iter 48 : 0.20994857349083668 ------\n"
     ]
    },
    {
     "name": "stderr",
     "output_type": "stream",
     "text": [
      " 49%|████▉     | 49/100 [01:02<01:00,  1.18s/it]"
     ]
    },
    {
     "name": "stdout",
     "output_type": "stream",
     "text": [
      "------ score of iter 49 : 0.20966854714141142 ------\n"
     ]
    },
    {
     "name": "stderr",
     "output_type": "stream",
     "text": [
      " 50%|█████     | 50/100 [01:03<00:59,  1.19s/it]"
     ]
    },
    {
     "name": "stdout",
     "output_type": "stream",
     "text": [
      "------ score of iter 50 : 0.20942805854068064 ------\n"
     ]
    },
    {
     "name": "stderr",
     "output_type": "stream",
     "text": [
      " 51%|█████     | 51/100 [01:04<00:57,  1.18s/it]"
     ]
    },
    {
     "name": "stdout",
     "output_type": "stream",
     "text": [
      "------ score of iter 51 : 0.2091870039310766 ------\n"
     ]
    },
    {
     "name": "stderr",
     "output_type": "stream",
     "text": [
      " 52%|█████▏    | 52/100 [01:05<00:56,  1.18s/it]"
     ]
    },
    {
     "name": "stdout",
     "output_type": "stream",
     "text": [
      "------ score of iter 52 : 0.20900351466839137 ------\n"
     ]
    },
    {
     "name": "stderr",
     "output_type": "stream",
     "text": [
      " 53%|█████▎    | 53/100 [01:06<00:54,  1.16s/it]"
     ]
    },
    {
     "name": "stdout",
     "output_type": "stream",
     "text": [
      "------ score of iter 53 : 0.2087241770327549 ------\n"
     ]
    },
    {
     "name": "stderr",
     "output_type": "stream",
     "text": [
      " 54%|█████▍    | 54/100 [01:08<00:53,  1.16s/it]"
     ]
    },
    {
     "name": "stdout",
     "output_type": "stream",
     "text": [
      "------ score of iter 54 : 0.20848310793884964 ------\n"
     ]
    },
    {
     "name": "stderr",
     "output_type": "stream",
     "text": [
      " 55%|█████▌    | 55/100 [01:09<00:51,  1.15s/it]"
     ]
    },
    {
     "name": "stdout",
     "output_type": "stream",
     "text": [
      "------ score of iter 55 : 0.20823580510341488 ------\n"
     ]
    },
    {
     "name": "stderr",
     "output_type": "stream",
     "text": [
      " 56%|█████▌    | 56/100 [01:10<00:50,  1.14s/it]"
     ]
    },
    {
     "name": "stdout",
     "output_type": "stream",
     "text": [
      "------ score of iter 56 : 0.2079406088535201 ------\n"
     ]
    },
    {
     "name": "stderr",
     "output_type": "stream",
     "text": [
      " 57%|█████▋    | 57/100 [01:11<00:49,  1.15s/it]"
     ]
    },
    {
     "name": "stdout",
     "output_type": "stream",
     "text": [
      "------ score of iter 57 : 0.20776888686497644 ------\n"
     ]
    },
    {
     "name": "stderr",
     "output_type": "stream",
     "text": [
      " 58%|█████▊    | 58/100 [01:12<00:48,  1.15s/it]"
     ]
    },
    {
     "name": "stdout",
     "output_type": "stream",
     "text": [
      "------ score of iter 58 : 0.20762917196922875 ------\n"
     ]
    },
    {
     "name": "stderr",
     "output_type": "stream",
     "text": [
      " 59%|█████▉    | 59/100 [01:13<00:47,  1.15s/it]"
     ]
    },
    {
     "name": "stdout",
     "output_type": "stream",
     "text": [
      "------ score of iter 59 : 0.2075233282655937 ------\n"
     ]
    },
    {
     "name": "stderr",
     "output_type": "stream",
     "text": [
      " 60%|██████    | 60/100 [01:14<00:45,  1.14s/it]"
     ]
    },
    {
     "name": "stdout",
     "output_type": "stream",
     "text": [
      "------ score of iter 60 : 0.20731684126672287 ------\n"
     ]
    },
    {
     "name": "stderr",
     "output_type": "stream",
     "text": [
      " 61%|██████    | 61/100 [01:16<00:44,  1.14s/it]"
     ]
    },
    {
     "name": "stdout",
     "output_type": "stream",
     "text": [
      "------ score of iter 61 : 0.20716756617356957 ------\n"
     ]
    },
    {
     "name": "stderr",
     "output_type": "stream",
     "text": [
      " 62%|██████▏   | 62/100 [01:17<00:43,  1.14s/it]"
     ]
    },
    {
     "name": "stdout",
     "output_type": "stream",
     "text": [
      "------ score of iter 62 : 0.20698297855523373 ------\n"
     ]
    },
    {
     "name": "stderr",
     "output_type": "stream",
     "text": [
      " 63%|██████▎   | 63/100 [01:18<00:41,  1.13s/it]"
     ]
    },
    {
     "name": "stdout",
     "output_type": "stream",
     "text": [
      "------ score of iter 63 : 0.20684744347301257 ------\n"
     ]
    },
    {
     "name": "stderr",
     "output_type": "stream",
     "text": [
      " 64%|██████▍   | 64/100 [01:19<00:40,  1.13s/it]"
     ]
    },
    {
     "name": "stdout",
     "output_type": "stream",
     "text": [
      "------ score of iter 64 : 0.2066042214930518 ------\n"
     ]
    },
    {
     "name": "stderr",
     "output_type": "stream",
     "text": [
      " 65%|██████▌   | 65/100 [01:20<00:39,  1.13s/it]"
     ]
    },
    {
     "name": "stdout",
     "output_type": "stream",
     "text": [
      "------ score of iter 65 : 0.20645931115192295 ------\n"
     ]
    },
    {
     "name": "stderr",
     "output_type": "stream",
     "text": [
      " 66%|██████▌   | 66/100 [01:21<00:38,  1.14s/it]"
     ]
    },
    {
     "name": "stdout",
     "output_type": "stream",
     "text": [
      "------ score of iter 66 : 0.20628362229787678 ------\n"
     ]
    },
    {
     "name": "stderr",
     "output_type": "stream",
     "text": [
      " 67%|██████▋   | 67/100 [01:22<00:37,  1.13s/it]"
     ]
    },
    {
     "name": "stdout",
     "output_type": "stream",
     "text": [
      "------ score of iter 67 : 0.2061582545346111 ------\n"
     ]
    },
    {
     "name": "stderr",
     "output_type": "stream",
     "text": [
      " 68%|██████▊   | 68/100 [01:23<00:36,  1.13s/it]"
     ]
    },
    {
     "name": "stdout",
     "output_type": "stream",
     "text": [
      "------ score of iter 68 : 0.20587070339382593 ------\n"
     ]
    },
    {
     "name": "stderr",
     "output_type": "stream",
     "text": [
      " 69%|██████▉   | 69/100 [01:25<00:34,  1.12s/it]"
     ]
    },
    {
     "name": "stdout",
     "output_type": "stream",
     "text": [
      "------ score of iter 69 : 0.20571199845843904 ------\n"
     ]
    },
    {
     "name": "stderr",
     "output_type": "stream",
     "text": [
      " 70%|███████   | 70/100 [01:26<00:33,  1.12s/it]"
     ]
    },
    {
     "name": "stdout",
     "output_type": "stream",
     "text": [
      "------ score of iter 70 : 0.20545877246656413 ------\n"
     ]
    },
    {
     "name": "stderr",
     "output_type": "stream",
     "text": [
      " 71%|███████   | 71/100 [01:27<00:32,  1.12s/it]"
     ]
    },
    {
     "name": "stdout",
     "output_type": "stream",
     "text": [
      "------ score of iter 71 : 0.2053111613631711 ------\n"
     ]
    },
    {
     "name": "stderr",
     "output_type": "stream",
     "text": [
      " 72%|███████▏  | 72/100 [01:28<00:31,  1.12s/it]"
     ]
    },
    {
     "name": "stdout",
     "output_type": "stream",
     "text": [
      "------ score of iter 72 : 0.20519236183767187 ------\n"
     ]
    },
    {
     "name": "stderr",
     "output_type": "stream",
     "text": [
      " 73%|███████▎  | 73/100 [01:29<00:30,  1.12s/it]"
     ]
    },
    {
     "name": "stdout",
     "output_type": "stream",
     "text": [
      "------ score of iter 73 : 0.20500188577179754 ------\n"
     ]
    },
    {
     "name": "stderr",
     "output_type": "stream",
     "text": [
      " 74%|███████▍  | 74/100 [01:30<00:29,  1.12s/it]"
     ]
    },
    {
     "name": "stdout",
     "output_type": "stream",
     "text": [
      "------ score of iter 74 : 0.2048210645653769 ------\n"
     ]
    },
    {
     "name": "stderr",
     "output_type": "stream",
     "text": [
      " 75%|███████▌  | 75/100 [01:31<00:28,  1.13s/it]"
     ]
    },
    {
     "name": "stdout",
     "output_type": "stream",
     "text": [
      "------ score of iter 75 : 0.20469354519550642 ------\n"
     ]
    },
    {
     "name": "stderr",
     "output_type": "stream",
     "text": [
      " 76%|███████▌  | 76/100 [01:32<00:27,  1.13s/it]"
     ]
    },
    {
     "name": "stdout",
     "output_type": "stream",
     "text": [
      "------ score of iter 76 : 0.20457827283930946 ------\n"
     ]
    },
    {
     "name": "stderr",
     "output_type": "stream",
     "text": [
      " 77%|███████▋  | 77/100 [01:34<00:25,  1.12s/it]"
     ]
    },
    {
     "name": "stdout",
     "output_type": "stream",
     "text": [
      "------ score of iter 77 : 0.20440128140193375 ------\n"
     ]
    },
    {
     "name": "stderr",
     "output_type": "stream",
     "text": [
      " 78%|███████▊  | 78/100 [01:35<00:24,  1.11s/it]"
     ]
    },
    {
     "name": "stdout",
     "output_type": "stream",
     "text": [
      "------ score of iter 78 : 0.20423239838224788 ------\n"
     ]
    },
    {
     "name": "stderr",
     "output_type": "stream",
     "text": [
      " 79%|███████▉  | 79/100 [01:36<00:23,  1.11s/it]"
     ]
    },
    {
     "name": "stdout",
     "output_type": "stream",
     "text": [
      "------ score of iter 79 : 0.20410681383875143 ------\n"
     ]
    },
    {
     "name": "stderr",
     "output_type": "stream",
     "text": [
      " 80%|████████  | 80/100 [01:37<00:22,  1.12s/it]"
     ]
    },
    {
     "name": "stdout",
     "output_type": "stream",
     "text": [
      "------ score of iter 80 : 0.2040119658491105 ------\n"
     ]
    },
    {
     "name": "stderr",
     "output_type": "stream",
     "text": [
      " 81%|████████  | 81/100 [01:38<00:21,  1.12s/it]"
     ]
    },
    {
     "name": "stdout",
     "output_type": "stream",
     "text": [
      "------ score of iter 81 : 0.20384526886758353 ------\n"
     ]
    },
    {
     "name": "stderr",
     "output_type": "stream",
     "text": [
      " 82%|████████▏ | 82/100 [01:39<00:20,  1.13s/it]"
     ]
    },
    {
     "name": "stdout",
     "output_type": "stream",
     "text": [
      "------ score of iter 82 : 0.20370318656344885 ------\n"
     ]
    },
    {
     "name": "stderr",
     "output_type": "stream",
     "text": [
      " 83%|████████▎ | 83/100 [01:40<00:19,  1.12s/it]"
     ]
    },
    {
     "name": "stdout",
     "output_type": "stream",
     "text": [
      "------ score of iter 83 : 0.20358798225042393 ------\n"
     ]
    },
    {
     "name": "stderr",
     "output_type": "stream",
     "text": [
      " 84%|████████▍ | 84/100 [01:41<00:17,  1.12s/it]"
     ]
    },
    {
     "name": "stdout",
     "output_type": "stream",
     "text": [
      "------ score of iter 84 : 0.20340746083040687 ------\n"
     ]
    },
    {
     "name": "stderr",
     "output_type": "stream",
     "text": [
      " 85%|████████▌ | 85/100 [01:42<00:16,  1.11s/it]"
     ]
    },
    {
     "name": "stdout",
     "output_type": "stream",
     "text": [
      "------ score of iter 85 : 0.20324694206868252 ------\n"
     ]
    },
    {
     "name": "stderr",
     "output_type": "stream",
     "text": [
      " 86%|████████▌ | 86/100 [01:44<00:15,  1.10s/it]"
     ]
    },
    {
     "name": "stdout",
     "output_type": "stream",
     "text": [
      "------ score of iter 86 : 0.20315414129537512 ------\n"
     ]
    },
    {
     "name": "stderr",
     "output_type": "stream",
     "text": [
      " 87%|████████▋ | 87/100 [01:45<00:14,  1.10s/it]"
     ]
    },
    {
     "name": "stdout",
     "output_type": "stream",
     "text": [
      "------ score of iter 87 : 0.20301797473509764 ------\n"
     ]
    },
    {
     "name": "stderr",
     "output_type": "stream",
     "text": [
      " 88%|████████▊ | 88/100 [01:46<00:13,  1.10s/it]"
     ]
    },
    {
     "name": "stdout",
     "output_type": "stream",
     "text": [
      "------ score of iter 88 : 0.2029601978581862 ------\n"
     ]
    },
    {
     "name": "stderr",
     "output_type": "stream",
     "text": [
      " 89%|████████▉ | 89/100 [01:47<00:12,  1.10s/it]"
     ]
    },
    {
     "name": "stdout",
     "output_type": "stream",
     "text": [
      "------ score of iter 89 : 0.20284584265169647 ------\n"
     ]
    },
    {
     "name": "stderr",
     "output_type": "stream",
     "text": [
      " 90%|█████████ | 90/100 [01:48<00:10,  1.09s/it]"
     ]
    },
    {
     "name": "stdout",
     "output_type": "stream",
     "text": [
      "------ score of iter 90 : 0.20273794784140728 ------\n"
     ]
    },
    {
     "name": "stderr",
     "output_type": "stream",
     "text": [
      " 91%|█████████ | 91/100 [01:49<00:09,  1.10s/it]"
     ]
    },
    {
     "name": "stdout",
     "output_type": "stream",
     "text": [
      "------ score of iter 91 : 0.2026578584149941 ------\n"
     ]
    },
    {
     "name": "stderr",
     "output_type": "stream",
     "text": [
      " 92%|█████████▏| 92/100 [01:50<00:08,  1.10s/it]"
     ]
    },
    {
     "name": "stdout",
     "output_type": "stream",
     "text": [
      "------ score of iter 92 : 0.2026320500642524 ------\n"
     ]
    },
    {
     "name": "stderr",
     "output_type": "stream",
     "text": [
      " 93%|█████████▎| 93/100 [01:51<00:07,  1.09s/it]"
     ]
    },
    {
     "name": "stdout",
     "output_type": "stream",
     "text": [
      "------ score of iter 93 : 0.20238310050559194 ------\n"
     ]
    },
    {
     "name": "stderr",
     "output_type": "stream",
     "text": [
      " 94%|█████████▍| 94/100 [01:52<00:06,  1.09s/it]"
     ]
    },
    {
     "name": "stdout",
     "output_type": "stream",
     "text": [
      "------ score of iter 94 : 0.202183190450491 ------\n"
     ]
    },
    {
     "name": "stderr",
     "output_type": "stream",
     "text": [
      " 95%|█████████▌| 95/100 [01:53<00:05,  1.09s/it]"
     ]
    },
    {
     "name": "stdout",
     "output_type": "stream",
     "text": [
      "------ score of iter 95 : 0.20209735567164575 ------\n"
     ]
    },
    {
     "name": "stderr",
     "output_type": "stream",
     "text": [
      " 96%|█████████▌| 96/100 [01:54<00:04,  1.09s/it]"
     ]
    },
    {
     "name": "stdout",
     "output_type": "stream",
     "text": [
      "------ score of iter 96 : 0.20203503481489554 ------\n"
     ]
    },
    {
     "name": "stderr",
     "output_type": "stream",
     "text": [
      " 97%|█████████▋| 97/100 [01:56<00:03,  1.09s/it]"
     ]
    },
    {
     "name": "stdout",
     "output_type": "stream",
     "text": [
      "------ score of iter 97 : 0.2019685378246473 ------\n"
     ]
    },
    {
     "name": "stderr",
     "output_type": "stream",
     "text": [
      " 98%|█████████▊| 98/100 [01:57<00:02,  1.09s/it]"
     ]
    },
    {
     "name": "stdout",
     "output_type": "stream",
     "text": [
      "------ score of iter 98 : 0.2019188454106914 ------\n"
     ]
    },
    {
     "name": "stderr",
     "output_type": "stream",
     "text": [
      " 99%|█████████▉| 99/100 [02:01<00:02,  2.05s/it]"
     ]
    },
    {
     "name": "stdout",
     "output_type": "stream",
     "text": [
      "------ score of iter 99 : 0.20191270023365504 ------\n"
     ]
    },
    {
     "name": "stderr",
     "output_type": "stream",
     "text": [
      "100%|██████████| 100/100 [02:02<00:00,  1.23s/it]"
     ]
    },
    {
     "name": "stdout",
     "output_type": "stream",
     "text": [
      "------ final score : 0.20185722816516657 ------\n"
     ]
    },
    {
     "name": "stderr",
     "output_type": "stream",
     "text": [
      "\n"
     ]
    },
    {
     "data": {
      "text/plain": [
       "[14091,\n",
       " 11372,\n",
       " 1395,\n",
       " 5423,\n",
       " 12696,\n",
       " 14004,\n",
       " 1520,\n",
       " 10511,\n",
       " 7695,\n",
       " 2553,\n",
       " 1308,\n",
       " 4488,\n",
       " 12858,\n",
       " 6530,\n",
       " 9816,\n",
       " 5977,\n",
       " 77,\n",
       " 9394,\n",
       " 13186,\n",
       " 14569,\n",
       " 8443,\n",
       " 4041,\n",
       " 5916,\n",
       " 10661,\n",
       " 9374,\n",
       " 4600,\n",
       " 10285,\n",
       " 5327,\n",
       " 1695,\n",
       " 3464,\n",
       " 2077,\n",
       " 14333,\n",
       " 5299,\n",
       " 4987,\n",
       " 13248,\n",
       " 10619,\n",
       " 14101,\n",
       " 11932,\n",
       " 7478,\n",
       " 7198,\n",
       " 2116,\n",
       " 8427,\n",
       " 8256,\n",
       " 6895,\n",
       " 5740,\n",
       " 14190,\n",
       " 7311,\n",
       " 2551,\n",
       " 3063,\n",
       " 6046,\n",
       " 9890,\n",
       " 4533,\n",
       " 6427,\n",
       " 10190,\n",
       " 6375,\n",
       " 10592,\n",
       " 847,\n",
       " 9805,\n",
       " 5716,\n",
       " 10077,\n",
       " 12976,\n",
       " 2514,\n",
       " 4860,\n",
       " 2583,\n",
       " 995,\n",
       " 7670,\n",
       " 9766,\n",
       " 8832,\n",
       " 2790,\n",
       " 14541,\n",
       " 7762,\n",
       " 1936,\n",
       " 4132,\n",
       " 5568,\n",
       " 1599,\n",
       " 10721,\n",
       " 553,\n",
       " 4291,\n",
       " 6797,\n",
       " 5479,\n",
       " 8214,\n",
       " 3846,\n",
       " 2048,\n",
       " 5950,\n",
       " 5506,\n",
       " 9898,\n",
       " 10048,\n",
       " 13989,\n",
       " 9354,\n",
       " 14372,\n",
       " 13859,\n",
       " 9190,\n",
       " 6013,\n",
       " 11166,\n",
       " 8971,\n",
       " 4392,\n",
       " 10912,\n",
       " 11907,\n",
       " 2100,\n",
       " 853,\n",
       " 3960,\n",
       " 2783,\n",
       " 1949,\n",
       " 2604,\n",
       " 12603,\n",
       " 12965,\n",
       " 3401,\n",
       " 14680,\n",
       " 9346,\n",
       " 2847,\n",
       " 13886,\n",
       " 4095,\n",
       " 5555,\n",
       " 12767,\n",
       " 14075,\n",
       " 1273,\n",
       " 13134,\n",
       " 1693,\n",
       " 7559,\n",
       " 1116,\n",
       " 10645,\n",
       " 13735,\n",
       " 2955,\n",
       " 3222,\n",
       " 6706,\n",
       " 1438,\n",
       " 2589,\n",
       " 936,\n",
       " 3180,\n",
       " 5378,\n",
       " 2712,\n",
       " 5548,\n",
       " 1802,\n",
       " 12794,\n",
       " 2259,\n",
       " 14916,\n",
       " 10906,\n",
       " 8307,\n",
       " 1880,\n",
       " 7887,\n",
       " 13729,\n",
       " 12141,\n",
       " 9517,\n",
       " 13178,\n",
       " 13418,\n",
       " 13677,\n",
       " 12190,\n",
       " 7652,\n",
       " 7780,\n",
       " 13150,\n",
       " 6927,\n",
       " 8719,\n",
       " 5900,\n",
       " 14823,\n",
       " 6560,\n",
       " 1192,\n",
       " 4688,\n",
       " 7520,\n",
       " 1518,\n",
       " 5952,\n",
       " 12752,\n",
       " 10796,\n",
       " 7224,\n",
       " 2507,\n",
       " 13868,\n",
       " 4805,\n",
       " 7979,\n",
       " 8663,\n",
       " 1313,\n",
       " 1120,\n",
       " 10889,\n",
       " 13312,\n",
       " 10816,\n",
       " 6360,\n",
       " 7335,\n",
       " 9878,\n",
       " 12047,\n",
       " 6192,\n",
       " 6428,\n",
       " 4048,\n",
       " 10318,\n",
       " 4083,\n",
       " 2791,\n",
       " 3612,\n",
       " 12363,\n",
       " 6006,\n",
       " 9877,\n",
       " 10846,\n",
       " 12379,\n",
       " 9309,\n",
       " 5136,\n",
       " 12426,\n",
       " 7073,\n",
       " 921,\n",
       " 12720,\n",
       " 6152,\n",
       " 12009,\n",
       " 10161,\n",
       " 636,\n",
       " 13058,\n",
       " 92,\n",
       " 3102,\n",
       " 13549,\n",
       " 8896,\n",
       " 8346,\n",
       " 3494,\n",
       " 6035,\n",
       " 2030,\n",
       " 8993,\n",
       " 9054,\n",
       " 131,\n",
       " 957,\n",
       " 8533,\n",
       " 12067,\n",
       " 5755,\n",
       " 13681,\n",
       " 6810,\n",
       " 6913,\n",
       " 6503,\n",
       " 2793,\n",
       " 5334,\n",
       " 4439,\n",
       " 4266,\n",
       " 107,\n",
       " 516,\n",
       " 5471,\n",
       " 6056,\n",
       " 12606,\n",
       " 1841,\n",
       " 14906,\n",
       " 2455,\n",
       " 8855,\n",
       " 1049,\n",
       " 4007,\n",
       " 2078,\n",
       " 13799,\n",
       " 834,\n",
       " 4538,\n",
       " 7769,\n",
       " 5197,\n",
       " 11268,\n",
       " 7861,\n",
       " 2967,\n",
       " 11389,\n",
       " 12990,\n",
       " 12888,\n",
       " 8514,\n",
       " 1388,\n",
       " 14615,\n",
       " 14039,\n",
       " 3470,\n",
       " 13752,\n",
       " 14795,\n",
       " 1911,\n",
       " 1941,\n",
       " 1675,\n",
       " 2614,\n",
       " 10474,\n",
       " 1791,\n",
       " 1356,\n",
       " 6472,\n",
       " 2987,\n",
       " 6642,\n",
       " 14026,\n",
       " 2291,\n",
       " 5974,\n",
       " 590,\n",
       " 7646,\n",
       " 11177,\n",
       " 10664,\n",
       " 13466,\n",
       " 2568,\n",
       " 9051,\n",
       " 10320,\n",
       " 1671,\n",
       " 12290,\n",
       " 10769,\n",
       " 13568,\n",
       " 6296,\n",
       " 13477,\n",
       " 13189,\n",
       " 3899,\n",
       " 12019,\n",
       " 1162,\n",
       " 1077,\n",
       " 8453,\n",
       " 318,\n",
       " 887,\n",
       " 3245,\n",
       " 5310,\n",
       " 14539,\n",
       " 5241,\n",
       " 5821,\n",
       " 13171,\n",
       " 7679,\n",
       " 8431,\n",
       " 11950,\n",
       " 11418,\n",
       " 1332,\n",
       " 13191,\n",
       " 13495,\n",
       " 14866,\n",
       " 12922,\n",
       " 2106,\n",
       " 4736,\n",
       " 12880,\n",
       " 1514,\n",
       " 13395,\n",
       " 1610,\n",
       " 6991,\n",
       " 13671,\n",
       " 4327,\n",
       " 2181,\n",
       " 4980,\n",
       " 11586,\n",
       " 2005,\n",
       " 316,\n",
       " 10595,\n",
       " 13239,\n",
       " 3738,\n",
       " 3914,\n",
       " 5864,\n",
       " 12503,\n",
       " 1807,\n",
       " 8602,\n",
       " 7705,\n",
       " 3593,\n",
       " 1541,\n",
       " 5836,\n",
       " 12419,\n",
       " 7604,\n",
       " 2221,\n",
       " 9117,\n",
       " 6293,\n",
       " 1394,\n",
       " 1876,\n",
       " 7525,\n",
       " 14164,\n",
       " 8484,\n",
       " 11595,\n",
       " 12218,\n",
       " 9232,\n",
       " 14335,\n",
       " 3295,\n",
       " 10142,\n",
       " 775,\n",
       " 490,\n",
       " 14955,\n",
       " 595,\n",
       " 2246,\n",
       " 6282,\n",
       " 14143,\n",
       " 701,\n",
       " 6767,\n",
       " 2009,\n",
       " 2349,\n",
       " 1569,\n",
       " 13285,\n",
       " 1413,\n",
       " 3349,\n",
       " 5843,\n",
       " 4567,\n",
       " 7985,\n",
       " 1515,\n",
       " 3650,\n",
       " 8373,\n",
       " 11656,\n",
       " 1333,\n",
       " 5699,\n",
       " 13000,\n",
       " 13686,\n",
       " 2220,\n",
       " 14451,\n",
       " 2162,\n",
       " 2811,\n",
       " 6531,\n",
       " 13522,\n",
       " 8588,\n",
       " 11055,\n",
       " 12566,\n",
       " 2975,\n",
       " 9845,\n",
       " 5090,\n",
       " 8324,\n",
       " 4893,\n",
       " 6528,\n",
       " 2347,\n",
       " 4701,\n",
       " 7539,\n",
       " 9976,\n",
       " 5702,\n",
       " 8128,\n",
       " 9178,\n",
       " 14659,\n",
       " 8303,\n",
       " 5650,\n",
       " 11184,\n",
       " 4018,\n",
       " 2941,\n",
       " 4631,\n",
       " 1458,\n",
       " 11741,\n",
       " 4977,\n",
       " 7409,\n",
       " 2127,\n",
       " 11491,\n",
       " 130,\n",
       " 8359,\n",
       " 10970,\n",
       " 9783,\n",
       " 6033,\n",
       " 9748,\n",
       " 240,\n",
       " 9993,\n",
       " 9247,\n",
       " 14685,\n",
       " 12851,\n",
       " 8766,\n",
       " 7275,\n",
       " 13901,\n",
       " 13293,\n",
       " 14852,\n",
       " 1983,\n",
       " 7745,\n",
       " 6858,\n",
       " 959,\n",
       " 5401,\n",
       " 2392,\n",
       " 14087,\n",
       " 14165,\n",
       " 4451,\n",
       " 9627,\n",
       " 11891,\n",
       " 3560,\n",
       " 6449,\n",
       " 2516,\n",
       " 8883,\n",
       " 9848,\n",
       " 5362,\n",
       " 739,\n",
       " 14860,\n",
       " 2602,\n",
       " 8036,\n",
       " 4941,\n",
       " 1493,\n",
       " 8520,\n",
       " 5093,\n",
       " 1912,\n",
       " 11456,\n",
       " 13517,\n",
       " 711,\n",
       " 1157,\n",
       " 6131,\n",
       " 7819,\n",
       " 2097,\n",
       " 929,\n",
       " 6358,\n",
       " 6725,\n",
       " 7162,\n",
       " 7283,\n",
       " 2624,\n",
       " 7522,\n",
       " 1622,\n",
       " 8591,\n",
       " 6479,\n",
       " 6166,\n",
       " 7097,\n",
       " 11282,\n",
       " 4127,\n",
       " 7464,\n",
       " 14879,\n",
       " 11088,\n",
       " 2739,\n",
       " 3113,\n",
       " 12742,\n",
       " 4043,\n",
       " 9204,\n",
       " 305,\n",
       " 3299,\n",
       " 158,\n",
       " 9487,\n",
       " 2256,\n",
       " 3456,\n",
       " 6676,\n",
       " 8528,\n",
       " 11838,\n",
       " 14402,\n",
       " 13391,\n",
       " 9377,\n",
       " 13709,\n",
       " 3951,\n",
       " 3252,\n",
       " 10818,\n",
       " 2013,\n",
       " 10764,\n",
       " 12913,\n",
       " 202,\n",
       " 4026,\n",
       " 2217,\n",
       " 6628,\n",
       " 11277,\n",
       " 8238,\n",
       " 1455,\n",
       " 3956,\n",
       " 4655,\n",
       " 4550,\n",
       " 11232,\n",
       " 14094,\n",
       " 1896,\n",
       " 14042,\n",
       " 7565,\n",
       " 9177,\n",
       " 9594,\n",
       " 354,\n",
       " 7512,\n",
       " 1323,\n",
       " 6255,\n",
       " 7542,\n",
       " 11933,\n",
       " 577,\n",
       " 5842,\n",
       " 703,\n",
       " 6157,\n",
       " 399,\n",
       " 8523,\n",
       " 12463,\n",
       " 8175,\n",
       " 5838,\n",
       " 6801,\n",
       " 8163,\n",
       " 11378,\n",
       " 12666,\n",
       " 9586,\n",
       " 13146,\n",
       " 669,\n",
       " 7484,\n",
       " 7568,\n",
       " 5271,\n",
       " 2684,\n",
       " 12608,\n",
       " 13489,\n",
       " 3039,\n",
       " 5865,\n",
       " 13308,\n",
       " 7280,\n",
       " 11560,\n",
       " 9016,\n",
       " 5148,\n",
       " 6098,\n",
       " 6129,\n",
       " 12091,\n",
       " 6888,\n",
       " 7842,\n",
       " 3822,\n",
       " 9263,\n",
       " 13349,\n",
       " 13036,\n",
       " 5655,\n",
       " 14910,\n",
       " 1012,\n",
       " 13076,\n",
       " 543,\n",
       " 7600,\n",
       " 5410,\n",
       " 9918,\n",
       " 14964,\n",
       " 486,\n",
       " 7963,\n",
       " 12978,\n",
       " 9,\n",
       " 42,\n",
       " 70,\n",
       " 182,\n",
       " 193,\n",
       " 233,\n",
       " 255,\n",
       " 257,\n",
       " 302,\n",
       " 309,\n",
       " 359,\n",
       " 384,\n",
       " 390,\n",
       " 478,\n",
       " 555,\n",
       " 585,\n",
       " 616,\n",
       " 619,\n",
       " 702,\n",
       " 776,\n",
       " 860,\n",
       " 893,\n",
       " 968,\n",
       " 997,\n",
       " 1024,\n",
       " 1058,\n",
       " 1495,\n",
       " 1557,\n",
       " 1603,\n",
       " 1708,\n",
       " 1745,\n",
       " 1824,\n",
       " 1920,\n",
       " 1996,\n",
       " 2029,\n",
       " 2238,\n",
       " 2284,\n",
       " 2385,\n",
       " 2485,\n",
       " 2594,\n",
       " 2741,\n",
       " 2894,\n",
       " 2966,\n",
       " 3330,\n",
       " 3334,\n",
       " 3347,\n",
       " 3375,\n",
       " 3447,\n",
       " 3471,\n",
       " 3513,\n",
       " 3518,\n",
       " 3535,\n",
       " 3546,\n",
       " 3731,\n",
       " 3792,\n",
       " 3928,\n",
       " 3969,\n",
       " 3979,\n",
       " 4008,\n",
       " 4061,\n",
       " 4111,\n",
       " 4181,\n",
       " 4214,\n",
       " 4478,\n",
       " 4481,\n",
       " 4494,\n",
       " 4559,\n",
       " 4575,\n",
       " 4790,\n",
       " 4845,\n",
       " 4928,\n",
       " 4966,\n",
       " 4969,\n",
       " 4990,\n",
       " 5018,\n",
       " 5050,\n",
       " 5087,\n",
       " 5089,\n",
       " 5116,\n",
       " 5131,\n",
       " 5166,\n",
       " 5248,\n",
       " 5409,\n",
       " 5460,\n",
       " 5657,\n",
       " 5709,\n",
       " 5947,\n",
       " 5975,\n",
       " 6032,\n",
       " 6172,\n",
       " 6175,\n",
       " 6196,\n",
       " 6412,\n",
       " 6584,\n",
       " 6606,\n",
       " 6748,\n",
       " 6795,\n",
       " 6802,\n",
       " 6860,\n",
       " 6861,\n",
       " 6872,\n",
       " 6922,\n",
       " 6987,\n",
       " 7027,\n",
       " 7041,\n",
       " 7199,\n",
       " 7244,\n",
       " 7353,\n",
       " 7388,\n",
       " 7422,\n",
       " 7432,\n",
       " 7601,\n",
       " 7663,\n",
       " 7696,\n",
       " 7987,\n",
       " 8115,\n",
       " 8134,\n",
       " 8219,\n",
       " 8287,\n",
       " 8299,\n",
       " 8414,\n",
       " 8467,\n",
       " 8531,\n",
       " 8544,\n",
       " 8689,\n",
       " 8764,\n",
       " 8917,\n",
       " 8965,\n",
       " 9000,\n",
       " 9018,\n",
       " 9047,\n",
       " 9066,\n",
       " 9112,\n",
       " 9161,\n",
       " 9198,\n",
       " 9242,\n",
       " 9259,\n",
       " 9315,\n",
       " 9324,\n",
       " 9417,\n",
       " 9633,\n",
       " 9655,\n",
       " 9802,\n",
       " 9897,\n",
       " 9924,\n",
       " 9957,\n",
       " 9987,\n",
       " 10201,\n",
       " 10238,\n",
       " 10293,\n",
       " 10356,\n",
       " 10423,\n",
       " 10497,\n",
       " 10506,\n",
       " 10553,\n",
       " 10567,\n",
       " 10752,\n",
       " 10777,\n",
       " 10875,\n",
       " 11180,\n",
       " 11198,\n",
       " 11208,\n",
       " 11272,\n",
       " 11525,\n",
       " 11613,\n",
       " 11704,\n",
       " 11743,\n",
       " 11791,\n",
       " 11906,\n",
       " 11924,\n",
       " 11949,\n",
       " 11951,\n",
       " 11971,\n",
       " 12006,\n",
       " 12096,\n",
       " 12126,\n",
       " 12183,\n",
       " 12196,\n",
       " 12473,\n",
       " 12483,\n",
       " 12591,\n",
       " 12668,\n",
       " 12761,\n",
       " 12762,\n",
       " 12783,\n",
       " 12804,\n",
       " 12904,\n",
       " 12988,\n",
       " 13003,\n",
       " 13063,\n",
       " 13237,\n",
       " 14929,\n",
       " 5164,\n",
       " 5828,\n",
       " 7945,\n",
       " 13254,\n",
       " 13654,\n",
       " 13850,\n",
       " 14060,\n",
       " 14945,\n",
       " 394,\n",
       " 756,\n",
       " 954,\n",
       " 2330,\n",
       " 3105,\n",
       " 3108,\n",
       " 3338,\n",
       " 3762,\n",
       " 3850,\n",
       " 4350,\n",
       " 4499,\n",
       " 5122,\n",
       " 5242,\n",
       " 6123,\n",
       " 6823,\n",
       " 6887,\n",
       " 6943,\n",
       " 7295,\n",
       " 7937,\n",
       " 9773,\n",
       " 9965,\n",
       " 10253,\n",
       " 10605,\n",
       " 10984,\n",
       " 11677,\n",
       " 12089,\n",
       " 12319,\n",
       " 12510,\n",
       " 12711,\n",
       " 13801,\n",
       " 14570,\n",
       " 4,\n",
       " 10,\n",
       " 19,\n",
       " 25,\n",
       " 29,\n",
       " 33,\n",
       " 35,\n",
       " 36,\n",
       " 38,\n",
       " 43,\n",
       " 44,\n",
       " 57,\n",
       " 65,\n",
       " 71,\n",
       " 73,\n",
       " 74,\n",
       " 94,\n",
       " 98,\n",
       " 105,\n",
       " 109,\n",
       " 113,\n",
       " 116,\n",
       " 124,\n",
       " 128,\n",
       " 139,\n",
       " 147,\n",
       " 153,\n",
       " 162,\n",
       " 164,\n",
       " 171,\n",
       " 174,\n",
       " 176,\n",
       " 177,\n",
       " 180,\n",
       " 197,\n",
       " 210,\n",
       " 215,\n",
       " 241,\n",
       " 244,\n",
       " 247,\n",
       " 248,\n",
       " 252,\n",
       " 253,\n",
       " 263,\n",
       " 269,\n",
       " 278,\n",
       " 283,\n",
       " 288,\n",
       " 291,\n",
       " 299,\n",
       " 303,\n",
       " 306,\n",
       " 310,\n",
       " 319,\n",
       " 334,\n",
       " 347,\n",
       " 351,\n",
       " 352,\n",
       " 355,\n",
       " 357,\n",
       " 367,\n",
       " 387,\n",
       " 389,\n",
       " 405,\n",
       " 406,\n",
       " 409,\n",
       " 411,\n",
       " 413,\n",
       " 414,\n",
       " 419,\n",
       " 420,\n",
       " 430,\n",
       " 432,\n",
       " 433,\n",
       " 434,\n",
       " 436,\n",
       " 440,\n",
       " 443,\n",
       " 444,\n",
       " 449,\n",
       " 461,\n",
       " 466,\n",
       " 470,\n",
       " 473,\n",
       " 476,\n",
       " 488,\n",
       " 493,\n",
       " 497,\n",
       " 498,\n",
       " 501,\n",
       " 511,\n",
       " 520,\n",
       " 530,\n",
       " 535,\n",
       " 547,\n",
       " 549,\n",
       " 552,\n",
       " 561,\n",
       " 564,\n",
       " 565,\n",
       " 12175,\n",
       " 10428,\n",
       " 13675,\n",
       " 9856,\n",
       " 2139,\n",
       " 735,\n",
       " 1964,\n",
       " 7719,\n",
       " 8393,\n",
       " 12781,\n",
       " 14782,\n",
       " 2270,\n",
       " 11744,\n",
       " 14396,\n",
       " 10879,\n",
       " 8880,\n",
       " 13006,\n",
       " 7503,\n",
       " 14953,\n",
       " 63,\n",
       " 12470,\n",
       " 13311,\n",
       " 12262,\n",
       " 5228,\n",
       " 11396,\n",
       " 4922,\n",
       " 6689,\n",
       " 13702,\n",
       " 4755,\n",
       " 6188,\n",
       " 12275,\n",
       " 11668,\n",
       " 10469,\n",
       " 9571,\n",
       " 9275,\n",
       " 1181,\n",
       " 5579,\n",
       " 10623,\n",
       " 5406,\n",
       " 1531,\n",
       " 1741,\n",
       " 5750,\n",
       " 13920,\n",
       " 12139,\n",
       " 9779,\n",
       " 11120,\n",
       " 11253,\n",
       " 12011,\n",
       " 1556,\n",
       " 3708,\n",
       " 4775,\n",
       " 7398,\n",
       " 11612,\n",
       " 13365,\n",
       " 10679,\n",
       " 7954,\n",
       " 11511,\n",
       " 9493,\n",
       " 6708,\n",
       " 14006,\n",
       " 960,\n",
       " 10582,\n",
       " 7226,\n",
       " 12923,\n",
       " 4809,\n",
       " 9495,\n",
       " 13334,\n",
       " 8109,\n",
       " 10646,\n",
       " 13317,\n",
       " 13559,\n",
       " 13838,\n",
       " 491,\n",
       " 517,\n",
       " 751,\n",
       " 11812,\n",
       " 9550,\n",
       " 7804,\n",
       " 10326,\n",
       " 3640,\n",
       " 4940,\n",
       " 12958,\n",
       " 7003,\n",
       " 3642,\n",
       " 5073,\n",
       " 5326,\n",
       " 14113,\n",
       " 3746,\n",
       " 3790,\n",
       " 11060,\n",
       " 11532,\n",
       " 1248,\n",
       " 8987,\n",
       " 9185,\n",
       " 6798,\n",
       " 10112,\n",
       " 4055,\n",
       " 12108,\n",
       " 275,\n",
       " 10179]"
      ]
     },
     "execution_count": 5,
     "metadata": {},
     "output_type": "execute_result"
    },
    {
     "data": {
      "image/png": "[encoded data removed]",
      "text/plain": [
       "<Figure size 640x480 with 1 Axes>"
      ]
     },
     "metadata": {},
     "output_type": "display_data"
    }
   ],
   "source": [
    "solver.coreset_select(lamda=lamda, n=n, max_iters=max_iters, cut_num=cut_num, plot_descent_curve=True, dist_matrix=dist_matrix, grads=grads)"
   ]
  }
 ],
 "metadata": {
  "kernelspec": {
   "display_name": "Python 3 (ipykernel)",
   "language": "python",
   "name": "python3"
  },
  "language_info": {
   "codemirror_mode": {
    "name": "ipython",
    "version": 3
   },
   "file_extension": ".py",
   "mimetype": "text/x-python",
   "name": "python",
   "nbconvert_exporter": "python",
   "pygments_lexer": "ipython3",
   "version": "3.8.10"
  }
 },
 "nbformat": 4,
 "nbformat_minor": 5
}
